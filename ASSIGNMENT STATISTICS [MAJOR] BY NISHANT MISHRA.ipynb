{
 "cells": [
  {
   "cell_type": "markdown",
   "id": "ad3608e4",
   "metadata": {},
   "source": [
    "##                                           ASSIGNMENT- STATISTICS [MAJOR] BY NISHANT MISHRA"
   ]
  },
  {
   "cell_type": "markdown",
   "id": "8931fd73",
   "metadata": {},
   "source": [
    "#### EMAIL- nm9169336@gmail.com                                                                                                             \n",
    "#### CONTACT NO.- 9873942716"
   ]
  },
  {
   "cell_type": "code",
   "execution_count": 1,
   "id": "b8900d3b",
   "metadata": {},
   "outputs": [],
   "source": [
    "# Questions- 1"
   ]
  },
  {
   "cell_type": "markdown",
   "id": "fb8a132f",
   "metadata": {},
   "source": [
    "#### According to a study, the daily average time spent by a user on asocial media website is 50 minutes. To test the claim of this study,Ramesh, a researcher, takes a sample of 25 website users and findsout that the mean time spent by the sample users is 60 minutes andthe sample standard deviation is 30 minutes.Based on this information, the null and the alternative hypotheses will be:\n",
    "#### Ho = The average time spent by the users is 50 minutes\n",
    "#### H1 = The average time spent by the users is not 50 minutes\n",
    "#### Use a 5% significance level to test this hypothesis."
   ]
  },
  {
   "cell_type": "code",
   "execution_count": 2,
   "id": "8345ae77",
   "metadata": {},
   "outputs": [
    {
     "name": "stdout",
     "output_type": "stream",
     "text": [
      "t_statistics: 1.6666666666666667\n",
      "P_value: 0.10858012302472297\n",
      "Failed to Reject null hypothesis\n"
     ]
    }
   ],
   "source": [
    "import scipy.stats as stats\n",
    "import numpy as np\n",
    "\n",
    "sample_mean = 60\n",
    "sample_std = 30\n",
    "n = 25\n",
    "d_mean = 50\n",
    "\n",
    "t_statistics = (sample_mean - d_mean) / (sample_std / np.sqrt(n))\n",
    "p_value = 2*(1-stats.t.cdf(abs(t_statistics), df=n-1))\n",
    "\n",
    "print('t_statistics:', t_statistics)\n",
    "print('P_value:', p_value)\n",
    "\n",
    "if p_value < 0.05:\n",
    "    print('Reject Null Hypothesis')\n",
    "else:\n",
    "    print('Failed to Reject null hypothesis')\n",
    "\n"
   ]
  },
  {
   "cell_type": "code",
   "execution_count": 3,
   "id": "9fb2a71f",
   "metadata": {},
   "outputs": [],
   "source": [
    "# Question-2"
   ]
  },
  {
   "cell_type": "markdown",
   "id": "c840a4df",
   "metadata": {},
   "source": [
    "#### Height of 7 students (in cm) is given below. What is the median? \n",
    "####  (168, 170, 169, 160, 162, 164, 162)"
   ]
  },
  {
   "cell_type": "code",
   "execution_count": 4,
   "id": "0fd0e9b3",
   "metadata": {},
   "outputs": [
    {
     "name": "stdout",
     "output_type": "stream",
     "text": [
      "Median is: 164\n"
     ]
    }
   ],
   "source": [
    "# importing libraries\n",
    "import statistics as stats\n",
    "\n",
    "heights = [168,170,169,160,162,164,162]\n",
    "median_heights = stats.median(heights)\n",
    "\n",
    "print('Median is:', median_heights)\n"
   ]
  },
  {
   "cell_type": "code",
   "execution_count": 5,
   "id": "e3c7f06d",
   "metadata": {},
   "outputs": [],
   "source": [
    "# Question-3"
   ]
  },
  {
   "cell_type": "markdown",
   "id": "db9d39ae",
   "metadata": {},
   "source": [
    "#### Below are the observations of the marks of a student. Find the value of mode.\n",
    "#### (84, 85, 89, 92, 93, 89, 87, 89, 92)"
   ]
  },
  {
   "cell_type": "code",
   "execution_count": 6,
   "id": "5b101cde",
   "metadata": {},
   "outputs": [
    {
     "name": "stdout",
     "output_type": "stream",
     "text": [
      "Mode is: 89\n"
     ]
    }
   ],
   "source": [
    "# importing libraries\n",
    "import statistics as stats\n",
    "\n",
    "marks = [84, 85, 89, 92, 93, 89, 87, 89, 92]\n",
    "mode_marks = stats.mode(marks)\n",
    "print('Mode is:', mode_marks)"
   ]
  },
  {
   "cell_type": "code",
   "execution_count": 7,
   "id": "0e151f0f",
   "metadata": {},
   "outputs": [],
   "source": [
    "# Question-4"
   ]
  },
  {
   "cell_type": "markdown",
   "id": "a0f69a67",
   "metadata": {},
   "source": [
    "#### From the table given below, what is the mean of marks obtained by 20 students?\n",
    "#### Marks = [3,4,5,6,7,8,9,10]\n",
    "#### NO. of students(frequency) = [1,2,2,4,5,3,2,1]\n"
   ]
  },
  {
   "cell_type": "code",
   "execution_count": 8,
   "id": "d10c1617",
   "metadata": {},
   "outputs": [
    {
     "name": "stdout",
     "output_type": "stream",
     "text": [
      "Mean of marks obtained by students is: 6.6\n"
     ]
    }
   ],
   "source": [
    "import numpy as np\n",
    "\n",
    "# calculating mean\n",
    "marks = [3, 4, 5, 6, 7, 8, 9, 10]\n",
    "freq = [1, 2, 2, 4, 5, 3, 2, 1]\n",
    "\n",
    "mean = np.average(marks, weights=freq)\n",
    "\n",
    "print(\"Mean of marks obtained by students is:\", mean)"
   ]
  },
  {
   "cell_type": "code",
   "execution_count": 9,
   "id": "619853a4",
   "metadata": {},
   "outputs": [],
   "source": [
    "# Question-5"
   ]
  },
  {
   "cell_type": "markdown",
   "id": "8dc55d43",
   "metadata": {},
   "source": [
    "#### For a certain type of computer, the length of time between charges ofthe battery is normally distributed with a mean of 50 hours and astandard deviation of 15 hours. John owns one of these computersand wants to know the probability that the length of time will bebetween 50 and 70 hours."
   ]
  },
  {
   "cell_type": "code",
   "execution_count": 10,
   "id": "9cc6692a",
   "metadata": {},
   "outputs": [
    {
     "name": "stdout",
     "output_type": "stream",
     "text": [
      "The probability that the length of time will be between 50 and 70 hours is: 0.4087887802741321\n"
     ]
    }
   ],
   "source": [
    "from scipy.stats import norm\n",
    "\n",
    "mu = 50\n",
    "sigma = 15\n",
    "\n",
    "# Probability that length of time will be less than or equal to 70 hours\n",
    "prob1 = norm.cdf(70, mu, sigma)\n",
    "\n",
    "# Probability that length of time will be less than or equal to 50 hours\n",
    "prob2 = norm.cdf(50, mu, sigma)\n",
    "\n",
    "# Probability that length of time will be between 50 and 70 hours\n",
    "prob = prob1 - prob2\n",
    "\n",
    "print(\"The probability that the length of time will be between 50 and 70 hours is:\", prob)\n"
   ]
  },
  {
   "cell_type": "markdown",
   "id": "d5d52343",
   "metadata": {},
   "source": [
    "So there is a 40.8% chance that the length of time will be between 50 and 70 hours."
   ]
  },
  {
   "cell_type": "code",
   "execution_count": 11,
   "id": "36c51bd2",
   "metadata": {},
   "outputs": [],
   "source": [
    "# Question-6"
   ]
  },
  {
   "cell_type": "markdown",
   "id": "a0638504",
   "metadata": {},
   "source": [
    "#### Find the range of the following.\n",
    "#### g = [10, 23, 12, 21, 14, 17, 16, 11, 15, 19]"
   ]
  },
  {
   "cell_type": "code",
   "execution_count": 12,
   "id": "7c846fc0",
   "metadata": {},
   "outputs": [
    {
     "name": "stdout",
     "output_type": "stream",
     "text": [
      "Range of g is: 13\n"
     ]
    }
   ],
   "source": [
    "g = [10, 23, 12, 21, 14, 17, 16, 11, 15, 19]\n",
    "range_of_g = max(g) - min(g)\n",
    "print(\"Range of g is:\", range_of_g)"
   ]
  },
  {
   "cell_type": "code",
   "execution_count": 13,
   "id": "f3ccb3e4",
   "metadata": {},
   "outputs": [],
   "source": [
    "## Question-7"
   ]
  },
  {
   "cell_type": "markdown",
   "id": "0759c200",
   "metadata": {},
   "source": [
    "#### It is estimated that 50% of emails are spam emails. Some software has been applied to filter these spam emails before they reach your inbox. A certain brand of software claims that it can detect 99% of spam emails, and the probability for a false positive (a non-spam email detected as spam) is 5%. Now if an email is detected as spam, then what is the probability that it is in fact a non-spam email?"
   ]
  },
  {
   "cell_type": "markdown",
   "id": "66b0b666",
   "metadata": {},
   "source": [
    "#### Solution:\n",
    "Let us consider events:- \n",
    "A = event that an email is detected as spam, \n",
    "B = event that an email is spam, \n",
    "Bc = event that an email is not spam. \n",
    "Given:\n",
    "P(B) = 0.5, \n",
    "P(A | B) = 0.99, \n",
    "P(A | Bc ) = 0.05. \n",
    "By the Bayes’s formula:\n",
    "P(Bc | A) = P(A | Bc )*P(Bc) / (P(A | B)*P(B) + P(A | Bc)*P(Bc )) \n",
    "= 0.05 × 0.5 / (0.05 × 0.5 + 0.99 × 0.5) \n",
    "= 5 / 104\n",
    "=  0.048\n",
    "\n",
    " * The probability is 4.8%\n"
   ]
  },
  {
   "cell_type": "code",
   "execution_count": 14,
   "id": "0696ef9c",
   "metadata": {},
   "outputs": [],
   "source": [
    "# Question-8"
   ]
  },
  {
   "cell_type": "markdown",
   "id": "79c2d51d",
   "metadata": {},
   "source": [
    "#### Given the following distribution of returns, determine the lowerquartile:\n",
    "#### {10, 25,12, 21, 19, 17, 16, 11, 15, 19}\n"
   ]
  },
  {
   "cell_type": "code",
   "execution_count": 15,
   "id": "996da2d8",
   "metadata": {},
   "outputs": [
    {
     "name": "stdout",
     "output_type": "stream",
     "text": [
      "Lower Quartile- 12.75\n"
     ]
    }
   ],
   "source": [
    "import numpy as np\n",
    "g =[10,25,12,21,19,17,16,11,15,19]\n",
    "lower_quartile = np.quantile(g, .25)\n",
    "print('Lower Quartile-', lower_quartile)"
   ]
  },
  {
   "cell_type": "code",
   "execution_count": 16,
   "id": "f5452715",
   "metadata": {},
   "outputs": [],
   "source": [
    "# Question-9"
   ]
  },
  {
   "cell_type": "markdown",
   "id": "0fc1b628",
   "metadata": {},
   "source": [
    "#### For a Binomial distribution, the number of trials(n) is 25, and theprobability of success is 0.3. What’s the variability of the distribution?"
   ]
  },
  {
   "cell_type": "code",
   "execution_count": 17,
   "id": "dc3d234a",
   "metadata": {},
   "outputs": [
    {
     "name": "stdout",
     "output_type": "stream",
     "text": [
      "Standard Deviation :  2.29128784747792\n"
     ]
    }
   ],
   "source": [
    "import numpy as np\n",
    "\n",
    "n = 25\n",
    "p = 0.3\n",
    "\n",
    "q = 1 - p\n",
    "\n",
    "variance = n * p * q\n",
    "\n",
    "std_dev = np.sqrt(variance)\n",
    "\n",
    "print(\"Standard Deviation : \", std_dev)\n"
   ]
  },
  {
   "cell_type": "code",
   "execution_count": 18,
   "id": "3af0dbce",
   "metadata": {},
   "outputs": [],
   "source": [
    "# Question-10"
   ]
  },
  {
   "cell_type": "markdown",
   "id": "b2a1f661",
   "metadata": {},
   "source": [
    "#### Download the Cell Phone Survey Dataset and perform the belowmentioned operations on the dataset:"
   ]
  },
  {
   "cell_type": "code",
   "execution_count": 19,
   "id": "63e2a6a5",
   "metadata": {},
   "outputs": [],
   "source": [
    "# importing librarires\n",
    "\n",
    "import pandas as pd\n",
    "import numpy as np\n",
    "import statistics as stats"
   ]
  },
  {
   "cell_type": "code",
   "execution_count": 20,
   "id": "79678448",
   "metadata": {},
   "outputs": [
    {
     "data": {
      "text/html": [
       "<div>\n",
       "<style scoped>\n",
       "    .dataframe tbody tr th:only-of-type {\n",
       "        vertical-align: middle;\n",
       "    }\n",
       "\n",
       "    .dataframe tbody tr th {\n",
       "        vertical-align: top;\n",
       "    }\n",
       "\n",
       "    .dataframe thead th {\n",
       "        text-align: right;\n",
       "    }\n",
       "</style>\n",
       "<table border=\"1\" class=\"dataframe\">\n",
       "  <thead>\n",
       "    <tr style=\"text-align: right;\">\n",
       "      <th></th>\n",
       "      <th>Gender</th>\n",
       "      <th>Carrier</th>\n",
       "      <th>Type</th>\n",
       "      <th>Usage</th>\n",
       "      <th>Signal strength</th>\n",
       "      <th>Value for the Dollar</th>\n",
       "      <th>Customer Service</th>\n",
       "    </tr>\n",
       "  </thead>\n",
       "  <tbody>\n",
       "    <tr>\n",
       "      <th>0</th>\n",
       "      <td>M</td>\n",
       "      <td>AT&amp;T</td>\n",
       "      <td>Smart</td>\n",
       "      <td>High</td>\n",
       "      <td>5</td>\n",
       "      <td>4</td>\n",
       "      <td>4</td>\n",
       "    </tr>\n",
       "    <tr>\n",
       "      <th>1</th>\n",
       "      <td>M</td>\n",
       "      <td>AT&amp;T</td>\n",
       "      <td>Smart</td>\n",
       "      <td>High</td>\n",
       "      <td>5</td>\n",
       "      <td>4</td>\n",
       "      <td>2</td>\n",
       "    </tr>\n",
       "    <tr>\n",
       "      <th>2</th>\n",
       "      <td>M</td>\n",
       "      <td>AT&amp;T</td>\n",
       "      <td>Smart</td>\n",
       "      <td>Average</td>\n",
       "      <td>4</td>\n",
       "      <td>4</td>\n",
       "      <td>4</td>\n",
       "    </tr>\n",
       "    <tr>\n",
       "      <th>3</th>\n",
       "      <td>M</td>\n",
       "      <td>AT&amp;T</td>\n",
       "      <td>Smart</td>\n",
       "      <td>Very high</td>\n",
       "      <td>2</td>\n",
       "      <td>3</td>\n",
       "      <td>3</td>\n",
       "    </tr>\n",
       "    <tr>\n",
       "      <th>4</th>\n",
       "      <td>M</td>\n",
       "      <td>AT&amp;T</td>\n",
       "      <td>Smart</td>\n",
       "      <td>Very high</td>\n",
       "      <td>5</td>\n",
       "      <td>5</td>\n",
       "      <td>2</td>\n",
       "    </tr>\n",
       "    <tr>\n",
       "      <th>5</th>\n",
       "      <td>M</td>\n",
       "      <td>AT&amp;T</td>\n",
       "      <td>Smart</td>\n",
       "      <td>Very high</td>\n",
       "      <td>4</td>\n",
       "      <td>3</td>\n",
       "      <td>5</td>\n",
       "    </tr>\n",
       "    <tr>\n",
       "      <th>6</th>\n",
       "      <td>M</td>\n",
       "      <td>AT&amp;T</td>\n",
       "      <td>Smart</td>\n",
       "      <td>Very high</td>\n",
       "      <td>3</td>\n",
       "      <td>4</td>\n",
       "      <td>4</td>\n",
       "    </tr>\n",
       "    <tr>\n",
       "      <th>7</th>\n",
       "      <td>F</td>\n",
       "      <td>AT&amp;T</td>\n",
       "      <td>Smart</td>\n",
       "      <td>Very high</td>\n",
       "      <td>3</td>\n",
       "      <td>2</td>\n",
       "      <td>3</td>\n",
       "    </tr>\n",
       "    <tr>\n",
       "      <th>8</th>\n",
       "      <td>F</td>\n",
       "      <td>AT&amp;T</td>\n",
       "      <td>Smart</td>\n",
       "      <td>Very high</td>\n",
       "      <td>4</td>\n",
       "      <td>3</td>\n",
       "      <td>4</td>\n",
       "    </tr>\n",
       "    <tr>\n",
       "      <th>9</th>\n",
       "      <td>M</td>\n",
       "      <td>AT&amp;T</td>\n",
       "      <td>Smart</td>\n",
       "      <td>Very high</td>\n",
       "      <td>3</td>\n",
       "      <td>3</td>\n",
       "      <td>1</td>\n",
       "    </tr>\n",
       "  </tbody>\n",
       "</table>\n",
       "</div>"
      ],
      "text/plain": [
       "  Gender Carrier   Type      Usage  Signal strength  Value for the Dollar  \\\n",
       "0      M    AT&T  Smart       High                5                     4   \n",
       "1      M    AT&T  Smart       High                5                     4   \n",
       "2      M    AT&T  Smart    Average                4                     4   \n",
       "3      M    AT&T  Smart  Very high                2                     3   \n",
       "4      M    AT&T  Smart  Very high                5                     5   \n",
       "5      M    AT&T  Smart  Very high                4                     3   \n",
       "6      M    AT&T  Smart  Very high                3                     4   \n",
       "7      F    AT&T  Smart  Very high                3                     2   \n",
       "8      F    AT&T  Smart  Very high                4                     3   \n",
       "9      M    AT&T  Smart  Very high                3                     3   \n",
       "\n",
       "   Customer Service  \n",
       "0                 4  \n",
       "1                 2  \n",
       "2                 4  \n",
       "3                 3  \n",
       "4                 2  \n",
       "5                 5  \n",
       "6                 4  \n",
       "7                 3  \n",
       "8                 4  \n",
       "9                 1  "
      ]
     },
     "execution_count": 20,
     "metadata": {},
     "output_type": "execute_result"
    }
   ],
   "source": [
    "# uploading dataset\n",
    "df = pd.read_csv('cell phone survey.csv')\n",
    "df.head(10)"
   ]
  },
  {
   "cell_type": "code",
   "execution_count": 21,
   "id": "cbb575e4",
   "metadata": {},
   "outputs": [
    {
     "name": "stdout",
     "output_type": "stream",
     "text": [
      "<class 'pandas.core.frame.DataFrame'>\n",
      "RangeIndex: 52 entries, 0 to 51\n",
      "Data columns (total 7 columns):\n",
      " #   Column                Non-Null Count  Dtype \n",
      "---  ------                --------------  ----- \n",
      " 0   Gender                52 non-null     object\n",
      " 1   Carrier               52 non-null     object\n",
      " 2   Type                  52 non-null     object\n",
      " 3   Usage                 52 non-null     object\n",
      " 4   Signal strength       52 non-null     int64 \n",
      " 5   Value for the Dollar  52 non-null     int64 \n",
      " 6   Customer Service      52 non-null     int64 \n",
      "dtypes: int64(3), object(4)\n",
      "memory usage: 3.0+ KB\n"
     ]
    },
    {
     "data": {
      "text/plain": [
       "Gender                  object\n",
       "Carrier                 object\n",
       "Type                    object\n",
       "Usage                   object\n",
       "Signal strength          int64\n",
       "Value for the Dollar     int64\n",
       "Customer Service         int64\n",
       "dtype: object"
      ]
     },
     "execution_count": 21,
     "metadata": {},
     "output_type": "execute_result"
    }
   ],
   "source": [
    "# 1. Checking datatypes of each column in the dataset\n",
    "df.info()\n",
    "df.dtypes"
   ]
  },
  {
   "cell_type": "code",
   "execution_count": 22,
   "id": "1c143fab",
   "metadata": {},
   "outputs": [
    {
     "name": "stdout",
     "output_type": "stream",
     "text": [
      "Mean of signal strenght is: 3.3076923076923075\n",
      "Mean of signal strenght is: 3.3076923076923075\n"
     ]
    }
   ],
   "source": [
    "# 2.  Find Mean of Signal strength column using Pandas and Statistics library.\n",
    "\n",
    "# using pandas\n",
    "df_mean = df['Signal strength'].mean()\n",
    "print('Mean of signal strenght is:', df_mean)\n",
    "\n",
    "# using statistics library\n",
    "df_mean1 = stats.mean(df['Signal strength'])\n",
    "print('Mean of signal strenght is:', df_mean1)\n"
   ]
  },
  {
   "cell_type": "code",
   "execution_count": 23,
   "id": "51c655eb",
   "metadata": {},
   "outputs": [
    {
     "name": "stdout",
     "output_type": "stream",
     "text": [
      "Median of Customer Service is: 3.0\n",
      "Median of Customer Service is: 3.0\n"
     ]
    }
   ],
   "source": [
    "# 3. Find the Median of Customer Service column using Pandas and Statistics library.\n",
    "\n",
    "# using pandas\n",
    "df_median = df['Customer Service'].median()\n",
    "print('Median of Customer Service is:', df_median)\n",
    "\n",
    "# using statistics library\n",
    "df_median1 = stats.median(df['Customer Service'])\n",
    "print('Median of Customer Service is:', df_median1)\n"
   ]
  },
  {
   "cell_type": "code",
   "execution_count": 24,
   "id": "56f65f95",
   "metadata": {},
   "outputs": [
    {
     "name": "stdout",
     "output_type": "stream",
     "text": [
      "Mode of Signal Strenth: 0    3\n",
      "Name: Signal strength, dtype: int64\n",
      "Mode of Signal Strenth: 3\n"
     ]
    }
   ],
   "source": [
    "# 4. Find Mode of Signal strength column using Pandas and Statistics library.\n",
    "\n",
    "# using pandas\n",
    "df_mode = df['Signal strength'].mode()\n",
    "print('Mode of Signal Strenth:', df_mode)\n",
    "\n",
    "# using statistics library\n",
    "df_mode1 = stats.mode(df['Signal strength'])\n",
    "print('Mode of Signal Strenth:', df_mode1)\n"
   ]
  },
  {
   "cell_type": "code",
   "execution_count": 25,
   "id": "08ab0659",
   "metadata": {},
   "outputs": [
    {
     "name": "stdout",
     "output_type": "stream",
     "text": [
      "STD. of Customer service is: 0.9623375261979595\n",
      "STD. of Customer Service is: 0.9623375261979594\n"
     ]
    }
   ],
   "source": [
    "# 5. Find Standard deviation of Customer Service column using Pandas and Statistics library.\n",
    "\n",
    "# using pandas\n",
    "df_std = stats.stdev(df['Customer Service'])\n",
    "print(\"STD. of Customer service is:\", df_std)\n",
    "\n",
    "# using statistics library\n",
    "df_std1 = df['Customer Service'].std()\n",
    "print(\"STD. of Customer Service is:\", df_std1)"
   ]
  },
  {
   "cell_type": "code",
   "execution_count": 26,
   "id": "3ec68299",
   "metadata": {},
   "outputs": [
    {
     "name": "stdout",
     "output_type": "stream",
     "text": [
      "Variance Customer Service: 0.9260935143288085\n",
      "Variance of Customer Service: 0.9260935143288083\n"
     ]
    }
   ],
   "source": [
    "# 6. Find Variance of Customer Service column using Pandas and Statistics library.\n",
    "\n",
    "# using pandas\n",
    "df_var = stats.variance(df['Customer Service'])\n",
    "print(\"Variance Customer Service:\", df_var)\n",
    "\n",
    "# using statistics library\n",
    "df_var1 = df['Customer Service'].var()\n",
    "print(\"Variance of Customer Service:\", df_var1)"
   ]
  },
  {
   "cell_type": "code",
   "execution_count": 27,
   "id": "994a3f95",
   "metadata": {},
   "outputs": [
    {
     "name": "stdout",
     "output_type": "stream",
     "text": [
      "Percentiles for the Dollar: [1. 3. 3. 4. 5.]\n"
     ]
    }
   ],
   "source": [
    "# 7. Calculate Percentiles of Value for the Dollar column using Numpy.\n",
    "\n",
    "# using numpy library\n",
    "def_col = df['Value for the Dollar']\n",
    "df_quartiles = np.quantile(def_col, [0,0.25,0.500,0.75,1])\n",
    "print(\"Percentiles for the Dollar:\", df_quartiles)"
   ]
  },
  {
   "cell_type": "code",
   "execution_count": 28,
   "id": "29cb8bce",
   "metadata": {},
   "outputs": [
    {
     "name": "stdout",
     "output_type": "stream",
     "text": [
      "Range for the dollar column: 4\n"
     ]
    }
   ],
   "source": [
    "# 8. Calculate Range of Value for the Dollar column using Pandas.\n",
    "\n",
    "df_range = df['Value for the Dollar'].max() - df['Value for the Dollar'].min()\n",
    "print('Range for the dollar column:', df_range)"
   ]
  },
  {
   "cell_type": "code",
   "execution_count": 29,
   "id": "c21aa04b",
   "metadata": {},
   "outputs": [
    {
     "name": "stdout",
     "output_type": "stream",
     "text": [
      "Interquartile range of dollar column: 1.0\n"
     ]
    }
   ],
   "source": [
    "# 9.Calculate IQR of Value for the Dollar column using Pandas.\n",
    "\n",
    "# using numpy library\n",
    "qr = df['Value for the Dollar']\n",
    "qr1 = np.percentile(qr, 25)\n",
    "qr2 = np.percentile(qr, 75)\n",
    "IQR = qr2 - qr1\n",
    "print('Interquartile range of dollar column:', IQR)"
   ]
  },
  {
   "cell_type": "code",
   "execution_count": 30,
   "id": "16d63f3c",
   "metadata": {},
   "outputs": [],
   "source": [
    "# 10. Hypothesis Testing - Using the data in the Cell Phone Survey dataset,apply ANOVA to determine \n",
    "#     if the mean response for Value for dollar is the same for different types of cell phones.\n",
    "\n"
   ]
  },
  {
   "cell_type": "code",
   "execution_count": 31,
   "id": "8bf791c4",
   "metadata": {},
   "outputs": [
    {
     "data": {
      "text/plain": [
       "array(['Smart', 'Camera', 'Basic'], dtype=object)"
      ]
     },
     "execution_count": 31,
     "metadata": {},
     "output_type": "execute_result"
    }
   ],
   "source": [
    "# checking different types of cell phones\n",
    "df['Type'].unique()"
   ]
  },
  {
   "cell_type": "code",
   "execution_count": 32,
   "id": "d6ed31b2",
   "metadata": {},
   "outputs": [
    {
     "data": {
      "text/plain": [
       "F_onewayResult(statistic=3.1111943528010304, pvalue=0.053454200712805613)"
      ]
     },
     "execution_count": 32,
     "metadata": {},
     "output_type": "execute_result"
    }
   ],
   "source": [
    "# applying ANOVA Test\n",
    "\n",
    "import scipy.stats as stats\n",
    "stats.f_oneway(df['Value for the Dollar'][df['Type'] == 'Basic'],\n",
    "               df['Value for the Dollar'][df['Type'] == 'Camera'],\n",
    "               df['Value for the Dollar'][df['Type'] == 'Smart'])\n",
    "\n"
   ]
  },
  {
   "cell_type": "markdown",
   "id": "718079f9",
   "metadata": {},
   "source": [
    "Since the p-value is greater than 0.05, we fail to reject the null hypothesis and conclude that there is no significant difference between the means of different groups."
   ]
  }
 ],
 "metadata": {
  "kernelspec": {
   "display_name": "Python 3 (ipykernel)",
   "language": "python",
   "name": "python3"
  },
  "language_info": {
   "codemirror_mode": {
    "name": "ipython",
    "version": 3
   },
   "file_extension": ".py",
   "mimetype": "text/x-python",
   "name": "python",
   "nbconvert_exporter": "python",
   "pygments_lexer": "ipython3",
   "version": "3.10.9"
  }
 },
 "nbformat": 4,
 "nbformat_minor": 5
}
